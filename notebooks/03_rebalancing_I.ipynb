{
 "cells": [
  {
   "cell_type": "code",
   "execution_count": 1,
   "metadata": {},
   "outputs": [],
   "source": [
    "import pickle\n",
    "\n",
    "import matplotlib.pyplot as plt\n",
    "import numpy as np\n",
    "import pandas as pd\n",
    "import seaborn as sns\n",
    "\n",
    "%matplotlib inline"
   ]
  },
  {
   "cell_type": "markdown",
   "metadata": {},
   "source": [
    "# Load data"
   ]
  },
  {
   "cell_type": "code",
   "execution_count": 2,
   "metadata": {},
   "outputs": [],
   "source": [
    "RESAMPLE = '1m'"
   ]
  },
  {
   "cell_type": "code",
   "execution_count": 3,
   "metadata": {},
   "outputs": [],
   "source": [
    "price = pickle.load(open('price_data.pkl', 'rb'))"
   ]
  },
  {
   "cell_type": "code",
   "execution_count": 4,
   "metadata": {},
   "outputs": [],
   "source": [
    "# price = price.drop('DAI', axis=1)\n",
    "price = price.dropna()"
   ]
  },
  {
   "cell_type": "code",
   "execution_count": 5,
   "metadata": {},
   "outputs": [
    {
     "data": {
      "text/html": [
       "<div>\n",
       "<style scoped>\n",
       "    .dataframe tbody tr th:only-of-type {\n",
       "        vertical-align: middle;\n",
       "    }\n",
       "\n",
       "    .dataframe tbody tr th {\n",
       "        vertical-align: top;\n",
       "    }\n",
       "\n",
       "    .dataframe thead th {\n",
       "        text-align: right;\n",
       "    }\n",
       "</style>\n",
       "<table border=\"1\" class=\"dataframe\">\n",
       "  <thead>\n",
       "    <tr style=\"text-align: right;\">\n",
       "      <th></th>\n",
       "      <th>ETH</th>\n",
       "      <th>BAT</th>\n",
       "      <th>BNB</th>\n",
       "      <th>DAI</th>\n",
       "      <th>ENJ</th>\n",
       "      <th>KNC</th>\n",
       "      <th>MKR</th>\n",
       "      <th>OMG</th>\n",
       "      <th>REP</th>\n",
       "      <th>ZIL</th>\n",
       "      <th>ZRX</th>\n",
       "    </tr>\n",
       "  </thead>\n",
       "  <tbody>\n",
       "    <tr>\n",
       "      <th>2018-06-10 22:20:07.665507072+00:00</th>\n",
       "      <td>519.871</td>\n",
       "      <td>0.225010</td>\n",
       "      <td>13.7450</td>\n",
       "      <td>0.991690</td>\n",
       "      <td>0.086149</td>\n",
       "      <td>1.10618</td>\n",
       "      <td>684.482</td>\n",
       "      <td>9.58670</td>\n",
       "      <td>32.9943</td>\n",
       "      <td>0.101025</td>\n",
       "      <td>1.03750</td>\n",
       "    </tr>\n",
       "    <tr>\n",
       "      <th>2018-06-10 22:26:07.894973952+00:00</th>\n",
       "      <td>514.353</td>\n",
       "      <td>0.225062</td>\n",
       "      <td>13.6791</td>\n",
       "      <td>0.996235</td>\n",
       "      <td>0.086369</td>\n",
       "      <td>1.10377</td>\n",
       "      <td>682.162</td>\n",
       "      <td>9.58319</td>\n",
       "      <td>33.0722</td>\n",
       "      <td>0.101260</td>\n",
       "      <td>1.03717</td>\n",
       "    </tr>\n",
       "    <tr>\n",
       "      <th>2018-06-10 22:28:08.102124032+00:00</th>\n",
       "      <td>514.353</td>\n",
       "      <td>0.225062</td>\n",
       "      <td>13.6791</td>\n",
       "      <td>0.996235</td>\n",
       "      <td>0.086369</td>\n",
       "      <td>1.10377</td>\n",
       "      <td>682.162</td>\n",
       "      <td>9.58319</td>\n",
       "      <td>33.0722</td>\n",
       "      <td>0.101260</td>\n",
       "      <td>1.03717</td>\n",
       "    </tr>\n",
       "    <tr>\n",
       "      <th>2018-06-10 22:30:07.604295936+00:00</th>\n",
       "      <td>514.353</td>\n",
       "      <td>0.225062</td>\n",
       "      <td>13.6791</td>\n",
       "      <td>0.996235</td>\n",
       "      <td>0.086369</td>\n",
       "      <td>1.10377</td>\n",
       "      <td>682.162</td>\n",
       "      <td>9.58319</td>\n",
       "      <td>33.0722</td>\n",
       "      <td>0.101260</td>\n",
       "      <td>1.03717</td>\n",
       "    </tr>\n",
       "    <tr>\n",
       "      <th>2018-06-10 22:32:07.741512960+00:00</th>\n",
       "      <td>512.402</td>\n",
       "      <td>0.221597</td>\n",
       "      <td>13.6487</td>\n",
       "      <td>0.996947</td>\n",
       "      <td>0.085640</td>\n",
       "      <td>1.08941</td>\n",
       "      <td>670.976</td>\n",
       "      <td>9.48857</td>\n",
       "      <td>32.7800</td>\n",
       "      <td>0.100134</td>\n",
       "      <td>1.02930</td>\n",
       "    </tr>\n",
       "  </tbody>\n",
       "</table>\n",
       "</div>"
      ],
      "text/plain": [
       "                                         ETH       BAT      BNB       DAI  \\\n",
       "2018-06-10 22:20:07.665507072+00:00  519.871  0.225010  13.7450  0.991690   \n",
       "2018-06-10 22:26:07.894973952+00:00  514.353  0.225062  13.6791  0.996235   \n",
       "2018-06-10 22:28:08.102124032+00:00  514.353  0.225062  13.6791  0.996235   \n",
       "2018-06-10 22:30:07.604295936+00:00  514.353  0.225062  13.6791  0.996235   \n",
       "2018-06-10 22:32:07.741512960+00:00  512.402  0.221597  13.6487  0.996947   \n",
       "\n",
       "                                          ENJ      KNC      MKR      OMG  \\\n",
       "2018-06-10 22:20:07.665507072+00:00  0.086149  1.10618  684.482  9.58670   \n",
       "2018-06-10 22:26:07.894973952+00:00  0.086369  1.10377  682.162  9.58319   \n",
       "2018-06-10 22:28:08.102124032+00:00  0.086369  1.10377  682.162  9.58319   \n",
       "2018-06-10 22:30:07.604295936+00:00  0.086369  1.10377  682.162  9.58319   \n",
       "2018-06-10 22:32:07.741512960+00:00  0.085640  1.08941  670.976  9.48857   \n",
       "\n",
       "                                         REP       ZIL      ZRX  \n",
       "2018-06-10 22:20:07.665507072+00:00  32.9943  0.101025  1.03750  \n",
       "2018-06-10 22:26:07.894973952+00:00  33.0722  0.101260  1.03717  \n",
       "2018-06-10 22:28:08.102124032+00:00  33.0722  0.101260  1.03717  \n",
       "2018-06-10 22:30:07.604295936+00:00  33.0722  0.101260  1.03717  \n",
       "2018-06-10 22:32:07.741512960+00:00  32.7800  0.100134  1.02930  "
      ]
     },
     "execution_count": 5,
     "metadata": {},
     "output_type": "execute_result"
    }
   ],
   "source": [
    "# data incl DAI is from June 2018 (10.5 months)\n",
    "price.head(5)"
   ]
  },
  {
   "cell_type": "code",
   "execution_count": 6,
   "metadata": {},
   "outputs": [
    {
     "data": {
      "text/html": [
       "<div>\n",
       "<style scoped>\n",
       "    .dataframe tbody tr th:only-of-type {\n",
       "        vertical-align: middle;\n",
       "    }\n",
       "\n",
       "    .dataframe tbody tr th {\n",
       "        vertical-align: top;\n",
       "    }\n",
       "\n",
       "    .dataframe thead th {\n",
       "        text-align: right;\n",
       "    }\n",
       "</style>\n",
       "<table border=\"1\" class=\"dataframe\">\n",
       "  <thead>\n",
       "    <tr style=\"text-align: right;\">\n",
       "      <th></th>\n",
       "      <th>ETH</th>\n",
       "      <th>BAT</th>\n",
       "      <th>BNB</th>\n",
       "      <th>DAI</th>\n",
       "      <th>ENJ</th>\n",
       "      <th>KNC</th>\n",
       "      <th>MKR</th>\n",
       "      <th>OMG</th>\n",
       "      <th>REP</th>\n",
       "      <th>ZIL</th>\n",
       "      <th>ZRX</th>\n",
       "    </tr>\n",
       "  </thead>\n",
       "  <tbody>\n",
       "    <tr>\n",
       "      <th>2018-06-30 00:00:00+00:00</th>\n",
       "      <td>480.788512</td>\n",
       "      <td>0.239337</td>\n",
       "      <td>15.278060</td>\n",
       "      <td>0.994702</td>\n",
       "      <td>0.065953</td>\n",
       "      <td>0.917408</td>\n",
       "      <td>546.733914</td>\n",
       "      <td>8.409844</td>\n",
       "      <td>32.468147</td>\n",
       "      <td>0.077537</td>\n",
       "      <td>0.781577</td>\n",
       "    </tr>\n",
       "    <tr>\n",
       "      <th>2018-07-31 00:00:00+00:00</th>\n",
       "      <td>463.804209</td>\n",
       "      <td>0.301298</td>\n",
       "      <td>13.226632</td>\n",
       "      <td>0.993268</td>\n",
       "      <td>0.061857</td>\n",
       "      <td>0.940674</td>\n",
       "      <td>593.397049</td>\n",
       "      <td>7.338490</td>\n",
       "      <td>32.005280</td>\n",
       "      <td>0.075337</td>\n",
       "      <td>1.042404</td>\n",
       "    </tr>\n",
       "    <tr>\n",
       "      <th>2018-08-31 00:00:00+00:00</th>\n",
       "      <td>319.365946</td>\n",
       "      <td>0.222907</td>\n",
       "      <td>11.089599</td>\n",
       "      <td>1.003640</td>\n",
       "      <td>0.042173</td>\n",
       "      <td>0.530905</td>\n",
       "      <td>467.404902</td>\n",
       "      <td>4.318846</td>\n",
       "      <td>21.254401</td>\n",
       "      <td>0.041859</td>\n",
       "      <td>0.805455</td>\n",
       "    </tr>\n",
       "    <tr>\n",
       "      <th>2018-09-30 00:00:00+00:00</th>\n",
       "      <td>227.531486</td>\n",
       "      <td>0.172900</td>\n",
       "      <td>10.046526</td>\n",
       "      <td>1.002319</td>\n",
       "      <td>0.044522</td>\n",
       "      <td>0.407828</td>\n",
       "      <td>421.437611</td>\n",
       "      <td>3.625256</td>\n",
       "      <td>14.775307</td>\n",
       "      <td>0.036315</td>\n",
       "      <td>0.626700</td>\n",
       "    </tr>\n",
       "    <tr>\n",
       "      <th>2018-10-31 00:00:00+00:00</th>\n",
       "      <td>210.444088</td>\n",
       "      <td>0.209122</td>\n",
       "      <td>9.892042</td>\n",
       "      <td>1.003060</td>\n",
       "      <td>0.051107</td>\n",
       "      <td>0.409902</td>\n",
       "      <td>633.600491</td>\n",
       "      <td>3.315621</td>\n",
       "      <td>13.094285</td>\n",
       "      <td>0.035087</td>\n",
       "      <td>0.771285</td>\n",
       "    </tr>\n",
       "  </tbody>\n",
       "</table>\n",
       "</div>"
      ],
      "text/plain": [
       "                                  ETH       BAT        BNB       DAI  \\\n",
       "2018-06-30 00:00:00+00:00  480.788512  0.239337  15.278060  0.994702   \n",
       "2018-07-31 00:00:00+00:00  463.804209  0.301298  13.226632  0.993268   \n",
       "2018-08-31 00:00:00+00:00  319.365946  0.222907  11.089599  1.003640   \n",
       "2018-09-30 00:00:00+00:00  227.531486  0.172900  10.046526  1.002319   \n",
       "2018-10-31 00:00:00+00:00  210.444088  0.209122   9.892042  1.003060   \n",
       "\n",
       "                                ENJ       KNC         MKR       OMG  \\\n",
       "2018-06-30 00:00:00+00:00  0.065953  0.917408  546.733914  8.409844   \n",
       "2018-07-31 00:00:00+00:00  0.061857  0.940674  593.397049  7.338490   \n",
       "2018-08-31 00:00:00+00:00  0.042173  0.530905  467.404902  4.318846   \n",
       "2018-09-30 00:00:00+00:00  0.044522  0.407828  421.437611  3.625256   \n",
       "2018-10-31 00:00:00+00:00  0.051107  0.409902  633.600491  3.315621   \n",
       "\n",
       "                                 REP       ZIL       ZRX  \n",
       "2018-06-30 00:00:00+00:00  32.468147  0.077537  0.781577  \n",
       "2018-07-31 00:00:00+00:00  32.005280  0.075337  1.042404  \n",
       "2018-08-31 00:00:00+00:00  21.254401  0.041859  0.805455  \n",
       "2018-09-30 00:00:00+00:00  14.775307  0.036315  0.626700  \n",
       "2018-10-31 00:00:00+00:00  13.094285  0.035087  0.771285  "
      ]
     },
     "execution_count": 6,
     "metadata": {},
     "output_type": "execute_result"
    }
   ],
   "source": [
    "price = price.resample(RESAMPLE).mean()\n",
    "price.head()"
   ]
  },
  {
   "cell_type": "code",
   "execution_count": 7,
   "metadata": {},
   "outputs": [
    {
     "data": {
      "text/plain": [
       "['ETH', 'BAT', 'BNB', 'DAI', 'ENJ', 'KNC', 'MKR', 'OMG', 'REP', 'ZIL', 'ZRX']"
      ]
     },
     "execution_count": 7,
     "metadata": {},
     "output_type": "execute_result"
    }
   ],
   "source": [
    "tokens = price.columns.tolist()\n",
    "tokens"
   ]
  },
  {
   "cell_type": "markdown",
   "metadata": {},
   "source": [
    "# Price"
   ]
  },
  {
   "cell_type": "code",
   "execution_count": 8,
   "metadata": {},
   "outputs": [
    {
     "data": {
      "text/plain": [
       "ETH    480.788512\n",
       "BAT      0.239337\n",
       "BNB     15.278060\n",
       "DAI      0.994702\n",
       "ENJ      0.065953\n",
       "KNC      0.917408\n",
       "MKR    546.733914\n",
       "OMG      8.409844\n",
       "REP     32.468147\n",
       "ZIL      0.077537\n",
       "ZRX      0.781577\n",
       "Name: 2018-06-30 00:00:00+00:00, dtype: float64"
      ]
     },
     "execution_count": 8,
     "metadata": {},
     "output_type": "execute_result"
    }
   ],
   "source": [
    "initial_price = price.iloc[0]\n",
    "initial_price"
   ]
  },
  {
   "cell_type": "markdown",
   "metadata": {},
   "source": [
    "# Returns"
   ]
  },
  {
   "cell_type": "code",
   "execution_count": 9,
   "metadata": {},
   "outputs": [
    {
     "data": {
      "text/html": [
       "<div>\n",
       "<style scoped>\n",
       "    .dataframe tbody tr th:only-of-type {\n",
       "        vertical-align: middle;\n",
       "    }\n",
       "\n",
       "    .dataframe tbody tr th {\n",
       "        vertical-align: top;\n",
       "    }\n",
       "\n",
       "    .dataframe thead th {\n",
       "        text-align: right;\n",
       "    }\n",
       "</style>\n",
       "<table border=\"1\" class=\"dataframe\">\n",
       "  <thead>\n",
       "    <tr style=\"text-align: right;\">\n",
       "      <th></th>\n",
       "      <th>ETH</th>\n",
       "      <th>BAT</th>\n",
       "      <th>BNB</th>\n",
       "      <th>DAI</th>\n",
       "      <th>ENJ</th>\n",
       "      <th>KNC</th>\n",
       "      <th>MKR</th>\n",
       "      <th>OMG</th>\n",
       "      <th>REP</th>\n",
       "      <th>ZIL</th>\n",
       "      <th>ZRX</th>\n",
       "    </tr>\n",
       "  </thead>\n",
       "  <tbody>\n",
       "    <tr>\n",
       "      <th>2018-07-31 00:00:00+00:00</th>\n",
       "      <td>0.964674</td>\n",
       "      <td>1.258887</td>\n",
       "      <td>0.865727</td>\n",
       "      <td>0.998558</td>\n",
       "      <td>0.937900</td>\n",
       "      <td>1.025361</td>\n",
       "      <td>1.085349</td>\n",
       "      <td>0.872607</td>\n",
       "      <td>0.985744</td>\n",
       "      <td>0.971625</td>\n",
       "      <td>1.333719</td>\n",
       "    </tr>\n",
       "    <tr>\n",
       "      <th>2018-08-31 00:00:00+00:00</th>\n",
       "      <td>0.688579</td>\n",
       "      <td>0.739822</td>\n",
       "      <td>0.838430</td>\n",
       "      <td>1.010442</td>\n",
       "      <td>0.681783</td>\n",
       "      <td>0.564388</td>\n",
       "      <td>0.787676</td>\n",
       "      <td>0.588520</td>\n",
       "      <td>0.664090</td>\n",
       "      <td>0.555625</td>\n",
       "      <td>0.772690</td>\n",
       "    </tr>\n",
       "    <tr>\n",
       "      <th>2018-09-30 00:00:00+00:00</th>\n",
       "      <td>0.712448</td>\n",
       "      <td>0.775661</td>\n",
       "      <td>0.905941</td>\n",
       "      <td>0.998684</td>\n",
       "      <td>1.055699</td>\n",
       "      <td>0.768176</td>\n",
       "      <td>0.901654</td>\n",
       "      <td>0.839404</td>\n",
       "      <td>0.695165</td>\n",
       "      <td>0.867561</td>\n",
       "      <td>0.778070</td>\n",
       "    </tr>\n",
       "    <tr>\n",
       "      <th>2018-10-31 00:00:00+00:00</th>\n",
       "      <td>0.924901</td>\n",
       "      <td>1.209496</td>\n",
       "      <td>0.984623</td>\n",
       "      <td>1.000740</td>\n",
       "      <td>1.147897</td>\n",
       "      <td>1.005085</td>\n",
       "      <td>1.503427</td>\n",
       "      <td>0.914590</td>\n",
       "      <td>0.886228</td>\n",
       "      <td>0.966168</td>\n",
       "      <td>1.230708</td>\n",
       "    </tr>\n",
       "    <tr>\n",
       "      <th>2018-11-30 00:00:00+00:00</th>\n",
       "      <td>0.808415</td>\n",
       "      <td>1.074510</td>\n",
       "      <td>0.780632</td>\n",
       "      <td>0.996161</td>\n",
       "      <td>0.761951</td>\n",
       "      <td>0.725221</td>\n",
       "      <td>0.843080</td>\n",
       "      <td>0.779488</td>\n",
       "      <td>0.885206</td>\n",
       "      <td>0.761593</td>\n",
       "      <td>0.752451</td>\n",
       "    </tr>\n",
       "    <tr>\n",
       "      <th>2018-12-31 00:00:00+00:00</th>\n",
       "      <td>0.644438</td>\n",
       "      <td>0.654746</td>\n",
       "      <td>0.686007</td>\n",
       "      <td>1.012164</td>\n",
       "      <td>0.853454</td>\n",
       "      <td>0.530532</td>\n",
       "      <td>0.737790</td>\n",
       "      <td>0.547806</td>\n",
       "      <td>0.637695</td>\n",
       "      <td>0.617393</td>\n",
       "      <td>0.584364</td>\n",
       "    </tr>\n",
       "    <tr>\n",
       "      <th>2019-01-31 00:00:00+00:00</th>\n",
       "      <td>1.172533</td>\n",
       "      <td>0.867185</td>\n",
       "      <td>1.189878</td>\n",
       "      <td>0.994564</td>\n",
       "      <td>1.060100</td>\n",
       "      <td>0.909780</td>\n",
       "      <td>1.154784</td>\n",
       "      <td>0.932466</td>\n",
       "      <td>1.588638</td>\n",
       "      <td>1.294176</td>\n",
       "      <td>0.874163</td>\n",
       "    </tr>\n",
       "    <tr>\n",
       "      <th>2019-02-28 00:00:00+00:00</th>\n",
       "      <td>0.984315</td>\n",
       "      <td>1.008750</td>\n",
       "      <td>1.433928</td>\n",
       "      <td>0.996660</td>\n",
       "      <td>1.072631</td>\n",
       "      <td>0.952206</td>\n",
       "      <td>1.161661</td>\n",
       "      <td>0.908602</td>\n",
       "      <td>1.155005</td>\n",
       "      <td>0.825218</td>\n",
       "      <td>0.819614</td>\n",
       "    </tr>\n",
       "    <tr>\n",
       "      <th>2019-03-31 00:00:00+00:00</th>\n",
       "      <td>1.086131</td>\n",
       "      <td>1.601313</td>\n",
       "      <td>1.677624</td>\n",
       "      <td>0.993710</td>\n",
       "      <td>4.169476</td>\n",
       "      <td>1.798409</td>\n",
       "      <td>1.314979</td>\n",
       "      <td>1.284590</td>\n",
       "      <td>1.056308</td>\n",
       "      <td>1.046384</td>\n",
       "      <td>1.118772</td>\n",
       "    </tr>\n",
       "    <tr>\n",
       "      <th>2019-04-30 00:00:00+00:00</th>\n",
       "      <td>1.214795</td>\n",
       "      <td>1.484505</td>\n",
       "      <td>1.260772</td>\n",
       "      <td>0.991651</td>\n",
       "      <td>0.993601</td>\n",
       "      <td>1.130543</td>\n",
       "      <td>1.002721</td>\n",
       "      <td>1.354852</td>\n",
       "      <td>1.384504</td>\n",
       "      <td>1.209975</td>\n",
       "      <td>1.248634</td>\n",
       "    </tr>\n",
       "  </tbody>\n",
       "</table>\n",
       "</div>"
      ],
      "text/plain": [
       "                                ETH       BAT       BNB       DAI       ENJ  \\\n",
       "2018-07-31 00:00:00+00:00  0.964674  1.258887  0.865727  0.998558  0.937900   \n",
       "2018-08-31 00:00:00+00:00  0.688579  0.739822  0.838430  1.010442  0.681783   \n",
       "2018-09-30 00:00:00+00:00  0.712448  0.775661  0.905941  0.998684  1.055699   \n",
       "2018-10-31 00:00:00+00:00  0.924901  1.209496  0.984623  1.000740  1.147897   \n",
       "2018-11-30 00:00:00+00:00  0.808415  1.074510  0.780632  0.996161  0.761951   \n",
       "2018-12-31 00:00:00+00:00  0.644438  0.654746  0.686007  1.012164  0.853454   \n",
       "2019-01-31 00:00:00+00:00  1.172533  0.867185  1.189878  0.994564  1.060100   \n",
       "2019-02-28 00:00:00+00:00  0.984315  1.008750  1.433928  0.996660  1.072631   \n",
       "2019-03-31 00:00:00+00:00  1.086131  1.601313  1.677624  0.993710  4.169476   \n",
       "2019-04-30 00:00:00+00:00  1.214795  1.484505  1.260772  0.991651  0.993601   \n",
       "\n",
       "                                KNC       MKR       OMG       REP       ZIL  \\\n",
       "2018-07-31 00:00:00+00:00  1.025361  1.085349  0.872607  0.985744  0.971625   \n",
       "2018-08-31 00:00:00+00:00  0.564388  0.787676  0.588520  0.664090  0.555625   \n",
       "2018-09-30 00:00:00+00:00  0.768176  0.901654  0.839404  0.695165  0.867561   \n",
       "2018-10-31 00:00:00+00:00  1.005085  1.503427  0.914590  0.886228  0.966168   \n",
       "2018-11-30 00:00:00+00:00  0.725221  0.843080  0.779488  0.885206  0.761593   \n",
       "2018-12-31 00:00:00+00:00  0.530532  0.737790  0.547806  0.637695  0.617393   \n",
       "2019-01-31 00:00:00+00:00  0.909780  1.154784  0.932466  1.588638  1.294176   \n",
       "2019-02-28 00:00:00+00:00  0.952206  1.161661  0.908602  1.155005  0.825218   \n",
       "2019-03-31 00:00:00+00:00  1.798409  1.314979  1.284590  1.056308  1.046384   \n",
       "2019-04-30 00:00:00+00:00  1.130543  1.002721  1.354852  1.384504  1.209975   \n",
       "\n",
       "                                ZRX  \n",
       "2018-07-31 00:00:00+00:00  1.333719  \n",
       "2018-08-31 00:00:00+00:00  0.772690  \n",
       "2018-09-30 00:00:00+00:00  0.778070  \n",
       "2018-10-31 00:00:00+00:00  1.230708  \n",
       "2018-11-30 00:00:00+00:00  0.752451  \n",
       "2018-12-31 00:00:00+00:00  0.584364  \n",
       "2019-01-31 00:00:00+00:00  0.874163  \n",
       "2019-02-28 00:00:00+00:00  0.819614  \n",
       "2019-03-31 00:00:00+00:00  1.118772  \n",
       "2019-04-30 00:00:00+00:00  1.248634  "
      ]
     },
     "execution_count": 9,
     "metadata": {},
     "output_type": "execute_result"
    }
   ],
   "source": [
    "returns = price.pct_change().dropna() + 1\n",
    "returns"
   ]
  },
  {
   "cell_type": "code",
   "execution_count": 10,
   "metadata": {},
   "outputs": [
    {
     "name": "stdout",
     "output_type": "stream",
     "text": [
      "ETH    0.347250\n",
      "BAT    1.278282\n",
      "BNB    1.251278\n",
      "DAI    0.993144\n",
      "ENJ    2.373797\n",
      "KNC    0.302791\n",
      "MKR    1.275029\n",
      "OMG    0.248242\n",
      "REP    0.610907\n",
      "ZIL    0.287705\n",
      "ZRX    0.434294\n",
      "dtype: float64\n",
      "0.8547926362534614\n"
     ]
    }
   ],
   "source": [
    "final_returns = np.prod(returns, axis=0)\n",
    "print(final_returns)\n",
    "print(final_returns.mean())"
   ]
  },
  {
   "cell_type": "code",
   "execution_count": 11,
   "metadata": {},
   "outputs": [
    {
     "data": {
      "text/plain": [
       "ETH    0.347250\n",
       "BAT    1.278282\n",
       "BNB    1.251278\n",
       "DAI    0.993144\n",
       "ENJ    2.373797\n",
       "KNC    0.302791\n",
       "MKR    1.275029\n",
       "OMG    0.248242\n",
       "REP    0.610907\n",
       "ZIL    0.287705\n",
       "ZRX    0.434294\n",
       "dtype: float64"
      ]
     },
     "execution_count": 11,
     "metadata": {},
     "output_type": "execute_result"
    }
   ],
   "source": [
    "price.iloc[-1] / initial_price"
   ]
  },
  {
   "cell_type": "markdown",
   "metadata": {},
   "source": [
    "# Portfolio returns"
   ]
  },
  {
   "cell_type": "markdown",
   "metadata": {},
   "source": [
    "https://www.chrisstucchio.com/blog/2015/constant_rebalanced_portfolios.html"
   ]
  },
  {
   "cell_type": "code",
   "execution_count": 12,
   "metadata": {},
   "outputs": [
    {
     "data": {
      "text/plain": [
       "array([0.09090909, 0.09090909, 0.09090909, 0.09090909, 0.09090909,\n",
       "       0.09090909, 0.09090909, 0.09090909, 0.09090909, 0.09090909,\n",
       "       0.09090909])"
      ]
     },
     "execution_count": 12,
     "metadata": {},
     "output_type": "execute_result"
    }
   ],
   "source": [
    "# uniform allocation\n",
    "allocation = np.ones(len(tokens)) / len(tokens)\n",
    "allocation"
   ]
  },
  {
   "cell_type": "code",
   "execution_count": 13,
   "metadata": {},
   "outputs": [
    {
     "data": {
      "text/plain": [
       "(0.8547926362534616, 0.8547926362534614)"
      ]
     },
     "execution_count": 13,
     "metadata": {},
     "output_type": "execute_result"
    }
   ],
   "source": [
    "total_return = np.dot(final_returns, allocation)\n",
    "# total_period = np.power(total_return, 1.0 / len(price))\n",
    "total_return, final_returns.mean()"
   ]
  },
  {
   "cell_type": "code",
   "execution_count": 14,
   "metadata": {},
   "outputs": [
    {
     "data": {
      "text/html": [
       "<div>\n",
       "<style scoped>\n",
       "    .dataframe tbody tr th:only-of-type {\n",
       "        vertical-align: middle;\n",
       "    }\n",
       "\n",
       "    .dataframe tbody tr th {\n",
       "        vertical-align: top;\n",
       "    }\n",
       "\n",
       "    .dataframe thead th {\n",
       "        text-align: right;\n",
       "    }\n",
       "</style>\n",
       "<table border=\"1\" class=\"dataframe\">\n",
       "  <thead>\n",
       "    <tr style=\"text-align: right;\">\n",
       "      <th></th>\n",
       "      <th>ETH</th>\n",
       "      <th>BAT</th>\n",
       "      <th>BNB</th>\n",
       "      <th>DAI</th>\n",
       "      <th>ENJ</th>\n",
       "      <th>KNC</th>\n",
       "      <th>MKR</th>\n",
       "      <th>OMG</th>\n",
       "      <th>REP</th>\n",
       "      <th>ZIL</th>\n",
       "      <th>ZRX</th>\n",
       "    </tr>\n",
       "  </thead>\n",
       "  <tbody>\n",
       "    <tr>\n",
       "      <th>2018-07-31 00:00:00+00:00</th>\n",
       "      <td>0.964674</td>\n",
       "      <td>1.258887</td>\n",
       "      <td>0.865727</td>\n",
       "      <td>0.998558</td>\n",
       "      <td>0.937900</td>\n",
       "      <td>1.025361</td>\n",
       "      <td>1.085349</td>\n",
       "      <td>0.872607</td>\n",
       "      <td>0.985744</td>\n",
       "      <td>0.971625</td>\n",
       "      <td>1.333719</td>\n",
       "    </tr>\n",
       "    <tr>\n",
       "      <th>2018-08-31 00:00:00+00:00</th>\n",
       "      <td>0.664255</td>\n",
       "      <td>0.931352</td>\n",
       "      <td>0.725851</td>\n",
       "      <td>1.008985</td>\n",
       "      <td>0.639444</td>\n",
       "      <td>0.578701</td>\n",
       "      <td>0.854904</td>\n",
       "      <td>0.513547</td>\n",
       "      <td>0.654623</td>\n",
       "      <td>0.539859</td>\n",
       "      <td>1.030551</td>\n",
       "    </tr>\n",
       "    <tr>\n",
       "      <th>2018-09-30 00:00:00+00:00</th>\n",
       "      <td>0.473247</td>\n",
       "      <td>0.722414</td>\n",
       "      <td>0.657579</td>\n",
       "      <td>1.007657</td>\n",
       "      <td>0.675061</td>\n",
       "      <td>0.444544</td>\n",
       "      <td>0.770828</td>\n",
       "      <td>0.431073</td>\n",
       "      <td>0.455071</td>\n",
       "      <td>0.468361</td>\n",
       "      <td>0.801840</td>\n",
       "    </tr>\n",
       "    <tr>\n",
       "      <th>2018-10-31 00:00:00+00:00</th>\n",
       "      <td>0.437706</td>\n",
       "      <td>0.873757</td>\n",
       "      <td>0.647467</td>\n",
       "      <td>1.008403</td>\n",
       "      <td>0.774901</td>\n",
       "      <td>0.446805</td>\n",
       "      <td>1.158883</td>\n",
       "      <td>0.394255</td>\n",
       "      <td>0.403296</td>\n",
       "      <td>0.452515</td>\n",
       "      <td>0.986831</td>\n",
       "    </tr>\n",
       "    <tr>\n",
       "      <th>2018-11-30 00:00:00+00:00</th>\n",
       "      <td>0.353848</td>\n",
       "      <td>0.938860</td>\n",
       "      <td>0.505434</td>\n",
       "      <td>1.004531</td>\n",
       "      <td>0.590436</td>\n",
       "      <td>0.324032</td>\n",
       "      <td>0.977031</td>\n",
       "      <td>0.307317</td>\n",
       "      <td>0.357000</td>\n",
       "      <td>0.344632</td>\n",
       "      <td>0.742542</td>\n",
       "    </tr>\n",
       "    <tr>\n",
       "      <th>2018-12-31 00:00:00+00:00</th>\n",
       "      <td>0.228033</td>\n",
       "      <td>0.614715</td>\n",
       "      <td>0.346731</td>\n",
       "      <td>1.016750</td>\n",
       "      <td>0.503910</td>\n",
       "      <td>0.171909</td>\n",
       "      <td>0.720843</td>\n",
       "      <td>0.168350</td>\n",
       "      <td>0.227657</td>\n",
       "      <td>0.212773</td>\n",
       "      <td>0.433915</td>\n",
       "    </tr>\n",
       "    <tr>\n",
       "      <th>2019-01-31 00:00:00+00:00</th>\n",
       "      <td>0.267377</td>\n",
       "      <td>0.533071</td>\n",
       "      <td>0.412567</td>\n",
       "      <td>1.011222</td>\n",
       "      <td>0.534195</td>\n",
       "      <td>0.156400</td>\n",
       "      <td>0.832419</td>\n",
       "      <td>0.156980</td>\n",
       "      <td>0.361665</td>\n",
       "      <td>0.275366</td>\n",
       "      <td>0.379313</td>\n",
       "    </tr>\n",
       "    <tr>\n",
       "      <th>2019-02-28 00:00:00+00:00</th>\n",
       "      <td>0.263183</td>\n",
       "      <td>0.537736</td>\n",
       "      <td>0.591592</td>\n",
       "      <td>1.007845</td>\n",
       "      <td>0.572994</td>\n",
       "      <td>0.148925</td>\n",
       "      <td>0.966988</td>\n",
       "      <td>0.142633</td>\n",
       "      <td>0.417725</td>\n",
       "      <td>0.227237</td>\n",
       "      <td>0.310890</td>\n",
       "    </tr>\n",
       "    <tr>\n",
       "      <th>2019-03-31 00:00:00+00:00</th>\n",
       "      <td>0.285851</td>\n",
       "      <td>0.861083</td>\n",
       "      <td>0.992469</td>\n",
       "      <td>1.001505</td>\n",
       "      <td>2.389084</td>\n",
       "      <td>0.267827</td>\n",
       "      <td>1.271570</td>\n",
       "      <td>0.183225</td>\n",
       "      <td>0.441246</td>\n",
       "      <td>0.237778</td>\n",
       "      <td>0.347815</td>\n",
       "    </tr>\n",
       "    <tr>\n",
       "      <th>2019-04-30 00:00:00+00:00</th>\n",
       "      <td>0.347250</td>\n",
       "      <td>1.278282</td>\n",
       "      <td>1.251278</td>\n",
       "      <td>0.993144</td>\n",
       "      <td>2.373797</td>\n",
       "      <td>0.302791</td>\n",
       "      <td>1.275029</td>\n",
       "      <td>0.248242</td>\n",
       "      <td>0.610907</td>\n",
       "      <td>0.287705</td>\n",
       "      <td>0.434294</td>\n",
       "    </tr>\n",
       "  </tbody>\n",
       "</table>\n",
       "</div>"
      ],
      "text/plain": [
       "                                ETH       BAT       BNB       DAI       ENJ  \\\n",
       "2018-07-31 00:00:00+00:00  0.964674  1.258887  0.865727  0.998558  0.937900   \n",
       "2018-08-31 00:00:00+00:00  0.664255  0.931352  0.725851  1.008985  0.639444   \n",
       "2018-09-30 00:00:00+00:00  0.473247  0.722414  0.657579  1.007657  0.675061   \n",
       "2018-10-31 00:00:00+00:00  0.437706  0.873757  0.647467  1.008403  0.774901   \n",
       "2018-11-30 00:00:00+00:00  0.353848  0.938860  0.505434  1.004531  0.590436   \n",
       "2018-12-31 00:00:00+00:00  0.228033  0.614715  0.346731  1.016750  0.503910   \n",
       "2019-01-31 00:00:00+00:00  0.267377  0.533071  0.412567  1.011222  0.534195   \n",
       "2019-02-28 00:00:00+00:00  0.263183  0.537736  0.591592  1.007845  0.572994   \n",
       "2019-03-31 00:00:00+00:00  0.285851  0.861083  0.992469  1.001505  2.389084   \n",
       "2019-04-30 00:00:00+00:00  0.347250  1.278282  1.251278  0.993144  2.373797   \n",
       "\n",
       "                                KNC       MKR       OMG       REP       ZIL  \\\n",
       "2018-07-31 00:00:00+00:00  1.025361  1.085349  0.872607  0.985744  0.971625   \n",
       "2018-08-31 00:00:00+00:00  0.578701  0.854904  0.513547  0.654623  0.539859   \n",
       "2018-09-30 00:00:00+00:00  0.444544  0.770828  0.431073  0.455071  0.468361   \n",
       "2018-10-31 00:00:00+00:00  0.446805  1.158883  0.394255  0.403296  0.452515   \n",
       "2018-11-30 00:00:00+00:00  0.324032  0.977031  0.307317  0.357000  0.344632   \n",
       "2018-12-31 00:00:00+00:00  0.171909  0.720843  0.168350  0.227657  0.212773   \n",
       "2019-01-31 00:00:00+00:00  0.156400  0.832419  0.156980  0.361665  0.275366   \n",
       "2019-02-28 00:00:00+00:00  0.148925  0.966988  0.142633  0.417725  0.227237   \n",
       "2019-03-31 00:00:00+00:00  0.267827  1.271570  0.183225  0.441246  0.237778   \n",
       "2019-04-30 00:00:00+00:00  0.302791  1.275029  0.248242  0.610907  0.287705   \n",
       "\n",
       "                                ZRX  \n",
       "2018-07-31 00:00:00+00:00  1.333719  \n",
       "2018-08-31 00:00:00+00:00  1.030551  \n",
       "2018-09-30 00:00:00+00:00  0.801840  \n",
       "2018-10-31 00:00:00+00:00  0.986831  \n",
       "2018-11-30 00:00:00+00:00  0.742542  \n",
       "2018-12-31 00:00:00+00:00  0.433915  \n",
       "2019-01-31 00:00:00+00:00  0.379313  \n",
       "2019-02-28 00:00:00+00:00  0.310890  \n",
       "2019-03-31 00:00:00+00:00  0.347815  \n",
       "2019-04-30 00:00:00+00:00  0.434294  "
      ]
     },
     "execution_count": 14,
     "metadata": {},
     "output_type": "execute_result"
    }
   ],
   "source": [
    "cum_returns = returns.cumprod()\n",
    "cum_returns"
   ]
  },
  {
   "cell_type": "code",
   "execution_count": 15,
   "metadata": {},
   "outputs": [
    {
     "data": {
      "image/png": "[encoded data removed]",
      "text/plain": [
       "<Figure size 1152x648 with 1 Axes>"
      ]
     },
     "metadata": {
      "needs_background": "light"
     },
     "output_type": "display_data"
    }
   ],
   "source": [
    "fig, ax = plt.subplots(1, figsize=(16, 9))\n",
    "ax.plot(cum_returns.index, (cum_returns * price.iloc[0]).mean(axis=1), linewidth=3)\n",
    "ax.plot(price.mean(axis=1), 'o-', alpha=1)\n",
    "ax.grid(True, 'both');"
   ]
  },
  {
   "cell_type": "code",
   "execution_count": 16,
   "metadata": {},
   "outputs": [
    {
     "data": {
      "text/plain": [
       "array([1.02728646, 0.71745869, 0.84531475, 1.07035105, 0.83351878,\n",
       "       0.68239892, 1.09438769, 1.02896286, 1.55888144, 1.20695954])"
      ]
     },
     "execution_count": 16,
     "metadata": {},
     "output_type": "execute_result"
    }
   ],
   "source": [
    "return_per_period = np.dot(returns, allocation) # == np.mean(returns, axis=1)\n",
    "return_per_period"
   ]
  },
  {
   "cell_type": "code",
   "execution_count": 17,
   "metadata": {},
   "outputs": [
    {
     "data": {
      "text/plain": [
       "0.8036437460062188"
      ]
     },
     "execution_count": 17,
     "metadata": {},
     "output_type": "execute_result"
    }
   ],
   "source": [
    "rb_cum_return = np.prod(np.dot(returns, allocation))\n",
    "rb_cum_return"
   ]
  },
  {
   "cell_type": "code",
   "execution_count": 18,
   "metadata": {},
   "outputs": [],
   "source": [
    "rb_cum_returns = return_per_period.cumprod()"
   ]
  },
  {
   "cell_type": "code",
   "execution_count": 19,
   "metadata": {},
   "outputs": [
    {
     "data": {
      "image/png": "[encoded data removed]",
      "text/plain": [
       "<Figure size 1152x648 with 1 Axes>"
      ]
     },
     "metadata": {
      "needs_background": "light"
     },
     "output_type": "display_data"
    }
   ],
   "source": [
    "fig, ax = plt.subplots(1, figsize=(16, 9))\n",
    "ax.bar(returns.index, cum_returns.mean(axis=1), width=10, alpha=0.9, label='hodl')\n",
    "ax.bar(returns.index, rb_cum_returns, width=10, alpha=0.7, label='snapfund')\n",
    "ax.grid(True, 'both')\n",
    "ax.legend(fontsize=18);"
   ]
  }
 ],
 "metadata": {
  "kernelspec": {
   "display_name": "Python 3",
   "language": "python",
   "name": "python3"
  },
  "language_info": {
   "codemirror_mode": {
    "name": "ipython",
    "version": 3
   },
   "file_extension": ".py",
   "mimetype": "text/x-python",
   "name": "python",
   "nbconvert_exporter": "python",
   "pygments_lexer": "ipython3",
   "version": "3.7.0"
  }
 },
 "nbformat": 4,
 "nbformat_minor": 2
}
